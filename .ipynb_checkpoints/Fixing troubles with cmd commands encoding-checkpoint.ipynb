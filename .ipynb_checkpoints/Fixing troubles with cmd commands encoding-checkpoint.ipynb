{
 "cells": [
  {
   "cell_type": "code",
   "execution_count": 5,
   "metadata": {},
   "outputs": [
    {
     "name": "stdout",
     "output_type": "stream",
     "text": [
      "Active code page: 65001\n"
     ]
    }
   ],
   "source": [
    "!chcp 65001"
   ]
  },
  {
   "cell_type": "code",
   "execution_count": 6,
   "metadata": {
    "scrolled": true
   },
   "outputs": [
    {
     "name": "stdout",
     "output_type": "stream",
     "text": [
      " Volume in drive C has no label.\n",
      " Volume Serial Number is 9013-908F\n",
      "\n",
      " Directory of C:\\Users\\Professional\\Desktop\\СѓС‡РµР±Р°\\datascience\\code\n",
      "\n",
      "05.03.2019  01:19    <DIR>          .\n",
      "05.03.2019  01:19    <DIR>          ..\n",
      "05.03.2019  01:15    <DIR>          .ipynb_checkpoints\n",
      "05.03.2019  01:19             1В 308 Testing Jupyter.ipynb\n",
      "               1 File(s)          1В 308 bytes\n",
      "               3 Dir(s)   7В 390В 859В 264 bytes free\n"
     ]
    }
   ],
   "source": [
    "!dir"
   ]
  }
 ],
 "metadata": {
  "kernelspec": {
   "display_name": "Python 3",
   "language": "python",
   "name": "python3"
  },
  "language_info": {
   "codemirror_mode": {
    "name": "ipython",
    "version": 3
   },
   "file_extension": ".py",
   "mimetype": "text/x-python",
   "name": "python",
   "nbconvert_exporter": "python",
   "pygments_lexer": "ipython3",
   "version": "3.7.0"
  }
 },
 "nbformat": 4,
 "nbformat_minor": 2
}
